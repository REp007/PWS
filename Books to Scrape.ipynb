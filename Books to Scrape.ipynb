{
 "cells": [
  {
   "cell_type": "markdown",
   "id": "ce7e72dc",
   "metadata": {},
   "source": [
    "# Project Python Web Scraping"
   ]
  },
  {
   "cell_type": "markdown",
   "id": "6e7e28b9",
   "metadata": {},
   "source": [
    "#### First Project Web Scraping\n"
   ]
  },
  {
   "cell_type": "code",
   "execution_count": 1,
   "id": "5610613d",
   "metadata": {},
   "outputs": [],
   "source": [
    "import requests\n",
    "from bs4 import BeautifulSoup\n",
    "import csv"
   ]
  },
  {
   "cell_type": "code",
   "execution_count": 76,
   "id": "966e57a4",
   "metadata": {},
   "outputs": [],
   "source": [
    "list_books = []\n",
    "for x in range(1,51): \n",
    "    url = f\"http://books.toscrape.com/catalogue/page-{x}.html\"\n",
    "    response = requests.get(str(url))\n",
    "    soup = BeautifulSoup(response.text,\"html.parser\")\n",
    "    section = soup.find('section')\n",
    "    list_ordonnee = section.find('ol')\n",
    "    article = list_ordonnee.find_all('article',  attrs = {\"class\":'product_pod'})\n",
    "    \n",
    "    \n",
    "    for x in article:\n",
    "        di = {}\n",
    "        h3= x.find('h3')\n",
    "        a = h3.find('a')\n",
    "        title = a.attrs['title']\n",
    "        di[\"TITLE\"] = title\n",
    "        stars = x.find('p')\n",
    "        stars = stars.attrs[\"class\"][1]\n",
    "        di[\"STARS\"] =stars\n",
    "        price = x.find('p',attrs = {'class' : 'price_color'})\n",
    "        price = price.text[2:]\n",
    "        di[\"PRICE\"] = price + \"DH\"\n",
    "        stock = x.find('p',attrs={'class':'instock availability'}).text \n",
    "        stock = stock.replace(\"\\n\",\"\").strip()\n",
    "        di[\"In Stock\"] = \"YES\" if stock == \"In stock\"  else \"NO\"\n",
    "        list_books.append(di)"
   ]
  },
  {
   "cell_type": "code",
   "execution_count": null,
   "id": "81ee5f62",
   "metadata": {},
   "outputs": [],
   "source": []
  },
  {
   "cell_type": "markdown",
   "id": "988ff15f",
   "metadata": {},
   "source": [
    "### Insert into a file csv"
   ]
  },
  {
   "cell_type": "code",
   "execution_count": 77,
   "id": "7cc8e191",
   "metadata": {},
   "outputs": [],
   "source": [
    "with open(\"Books_scraping.csv\",\"w+\",newline=\"\", encoding=\"UTF-8\") as f:\n",
    "    thewriter = csv.DictWriter(f,delimiter=\",\",fieldnames=[\"TITLE\",\"STARS\",\"PRICE\",\"In Stock\"])\n",
    "    thewriter.writeheader()\n",
    "    for x in list_books:\n",
    "        thewriter.writerow(x)"
   ]
  },
  {
   "cell_type": "code",
   "execution_count": null,
   "id": "134f9dad",
   "metadata": {},
   "outputs": [],
   "source": []
  },
  {
   "cell_type": "code",
   "execution_count": null,
   "id": "99221eb1",
   "metadata": {},
   "outputs": [],
   "source": []
  },
  {
   "cell_type": "code",
   "execution_count": null,
   "id": "9c432a0a",
   "metadata": {},
   "outputs": [],
   "source": []
  }
 ],
 "metadata": {
  "kernelspec": {
   "display_name": "Python 3 (ipykernel)",
   "language": "python",
   "name": "python3"
  },
  "language_info": {
   "codemirror_mode": {
    "name": "ipython",
    "version": 3
   },
   "file_extension": ".py",
   "mimetype": "text/x-python",
   "name": "python",
   "nbconvert_exporter": "python",
   "pygments_lexer": "ipython3",
   "version": "3.9.13"
  }
 },
 "nbformat": 4,
 "nbformat_minor": 5
}
